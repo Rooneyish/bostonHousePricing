import pandas as pd
import numpy as np
import matplotlib.pyplot as plt
import seaborn as sns
%matplotlib inline





from sklearn.datasets import fetch_california_housing


california = fetch_california_housing()


california.keys()





california


print(california.data)


print(california.target)


print(california.feature_names)





df = pd.DataFrame(california.data, columns= california.feature_names)


df.head()


df['Price'] = california.target


df


df.info()





df.describe()





df.isnull()


df.isnull().sum()





corr= df.corr()


corr


sns.heatmap(corr, cmap="Blues")
plt.show()


sns.pairplot(df)



