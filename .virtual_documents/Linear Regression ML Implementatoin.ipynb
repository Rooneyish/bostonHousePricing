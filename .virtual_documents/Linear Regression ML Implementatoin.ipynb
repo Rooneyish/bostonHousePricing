## Importing required modules


import pandas as pd
import numpy as np
import matplotlib.pyplot as plt
import seaborn as sns
%matplotlib inline





from sklearn.datasets import fetch_california_housing


california = fetch_california_housing()


california.keys()





california


print(california.data)


print(california.target)


print(california.feature_names)











df = pd.DataFrame(california.data, columns= california.feature_names)


df.head()





df['Price'] = california.target


df


df.info()





df.describe()





df.isnull()


df.isnull().sum()








corr= df.corr()


corr


sns.heatmap(corr, cmap="Blues")
plt.show()











sns.regplot(x="MedInc", y="Price", data=df, line_kws={"color": "red"})
plt.show()





sns.regplot(x="AveRooms", y="AveBedrms", data=df, line_kws={"color": "red"})
plt.show()





sns.regplot(x="MedInc", y="AveRooms", data=df, line_kws={"color": "red"})
plt.show()


sns.regplot(x="Population", y="HouseAge", data=df, line_kws={"color": "red"})
plt.show()


sns.regplot(x="Population", y="MedInc", data=df, line_kws={"color": "red"})
plt.show()





X = df.iloc[:,:-1] # independent features
y = df.iloc[:, -1] # dependent features


print(y.head())


X.head()





from sklearn.model_selection import train_test_split


X_train, X_test, y_train, y_test = train_test_split(X, y, test_size=0.3, random_state=42)


X_train


X_test


y_train


y_test





from sklearn.preprocessing import StandardScaler


scaler = StandardScaler()


X_train_scaled = scaler.fit_transform(X_train)
X_test_scaled = scaler.transform(X_test)


X_train_scaled


X_test_scaled



